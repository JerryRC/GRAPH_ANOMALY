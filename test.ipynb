{
 "cells": [
  {
   "cell_type": "code",
   "execution_count": null,
   "metadata": {},
   "outputs": [],
   "source": [
    "%load_ext autoreload\n",
    "%autoreload 1"
   ]
  },
  {
   "cell_type": "code",
   "execution_count": null,
   "metadata": {},
   "outputs": [],
   "source": [
    "import argparse\n",
    "from utils.dataloader import get_dataloader\n",
    "import torch\n",
    "from utils.trainer import MyTrainer\n",
    "from models.model import MyModel\n",
    "import os\n",
    "\n",
    "\n",
    "DEVICE = torch.device('cuda' if torch.cuda.is_available() else 'cpu')\n",
    "parser = argparse.ArgumentParser()\n",
    "\n",
    "parser.add_argument('--num_workers', type=int, default=os.cpu_count())\n",
    "\n",
    "parser.add_argument('--model_path', type=str, default=None)\n",
    "parser.add_argument('--adjacency_dir', type=str, default='./data/NBA/data/graph')\n",
    "parser.add_argument('--node_attribute_dir', type=str, default='./data/NBA/data/graph')\n",
    "parser.add_argument('--exist_table_dir', type=str, default='./data/NBA/data/graph')\n",
    "\n",
    "parser.add_argument('--embedding_dim', type=int, default=20)\n",
    "parser.add_argument('--lstm_hidden_size', type=int, default=20)\n",
    "parser.add_argument('--num_lstm_layers', type=int, default=1)\n",
    "parser.add_argument('--window_size', type=int, default=10)\n",
    "\n",
    "parser.add_argument('--inner_gcn_hidden_size', type=int, default=20)\n",
    "parser.add_argument('--outer_gcn_hidden_size', type=int, default=20)\n",
    "\n",
    "parser.add_argument('--batch_size', type=int, default=2)\n",
    "parser.add_argument('--learning_rate', type=float, default=0.001)\n",
    "parser.add_argument('--epochs', type=int, default=10)\n",
    "parser.add_argument('--dropout', type=float, default=0.5)\n",
    "parser.add_argument('--weight_decay', type=float, default=0.0001)\n",
    "\n",
    "args, unknown = parser.parse_known_args()\n",
    "print(\"注意，以下的传入参数未经定义：\\n\", unknown) if unknown else print(\"所有传入参数解析完成！\")"
   ]
  },
  {
   "cell_type": "code",
   "execution_count": null,
   "metadata": {},
   "outputs": [],
   "source": [
    "dataloader = get_dataloader(args=args)"
   ]
  },
  {
   "cell_type": "code",
   "execution_count": null,
   "metadata": {},
   "outputs": [],
   "source": [
    "model = MyModel(args=args)\n",
    "\n",
    "trainer = MyTrainer(device=DEVICE ,args=args)\n",
    "trainer.train(model, dataloader, dataloader)"
   ]
  },
  {
   "cell_type": "code",
   "execution_count": null,
   "metadata": {},
   "outputs": [],
   "source": [
    "import torch\n",
    "\n",
    "# 使用torch.randint生成随机整数矩阵\n",
    "int_matrix = torch.randint(low=0, high=3, size=(3, 2, 3, 1), dtype=torch.int32)\n",
    "int_matrix2 = torch.randint(low=0, high=3, size=(3, 3), dtype=torch.int32)\n",
    "\n",
    "\n",
    "# 打印生成的整数矩阵\n",
    "print(int_matrix)\n",
    "print(int_matrix2)\n",
    "\n",
    "res = torch.matmul(int_matrix2, int_matrix)\n",
    "print(res)\n",
    "\n",
    "\n",
    "\n",
    "# input_timestamp = [[[1, 2], [3, 4], [5, 6]],\n",
    "#                    [[7, 8], [9, 10], [11, 12]]]\n",
    "\n",
    "# input_timestamp = torch.tensor(input_timestamp)\n",
    "# print(input_timestamp)\n",
    "# print(input_timestamp.unsqueeze(-1))\n",
    "\n",
    "# Node_emb = [[0.1, 0.2],\n",
    "#             [0.3, 0.4]]\n",
    "\n",
    "# Node_emb = torch.tensor(Node_emb)\n",
    "# print(Node_emb)\n",
    "\n",
    "# res = input_timestamp.unsqueeze(-1) * Node_emb\n",
    "# print (res)"
   ]
  }
 ],
 "metadata": {
  "kernelspec": {
   "display_name": "tor11",
   "language": "python",
   "name": "python3"
  },
  "language_info": {
   "codemirror_mode": {
    "name": "ipython",
    "version": 3
   },
   "file_extension": ".py",
   "mimetype": "text/x-python",
   "name": "python",
   "nbconvert_exporter": "python",
   "pygments_lexer": "ipython3",
   "version": "3.11.5"
  }
 },
 "nbformat": 4,
 "nbformat_minor": 2
}
