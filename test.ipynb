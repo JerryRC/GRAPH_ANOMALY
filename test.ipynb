{
 "cells": [
  {
   "cell_type": "code",
   "execution_count": null,
   "metadata": {},
   "outputs": [],
   "source": [
    "import argparse\n",
    "\n",
    "\n",
    "parser = argparse.ArgumentParser()\n",
    "\n",
    "parser.add_argument('--batch_size', type=int, default=2,help='batch_size')\n",
    "parser.add_argument('--adjacency_dir', type=str, default='./data/NBA/data/graph',help='batch_size')\n",
    "parser.add_argument('--node_attribute_dir', type=str, default='./data/NBA/data/graph',help='batch_size')\n",
    "parser.add_argument('--exist_table_dir', type=str, default='./data/NBA/data/graph',help='batch_size')\n",
    "parser.add_argument('--window_size', type=int, default=10,help='batch_size')\n",
    "parser.add_argument('--lr', type=float, default=0.001)\n",
    "\n",
    "args, unknown = parser.parse_known_args()\n"
   ]
  },
  {
   "cell_type": "code",
   "execution_count": null,
   "metadata": {},
   "outputs": [],
   "source": [
    "print(unknown)"
   ]
  },
  {
   "cell_type": "code",
   "execution_count": null,
   "metadata": {},
   "outputs": [],
   "source": [
    "from utils.dataloader import get_dataloader\n",
    "\n",
    "dataloader = get_dataloader(args=args)\n"
   ]
  }
 ],
 "metadata": {
  "kernelspec": {
   "display_name": "tor11",
   "language": "python",
   "name": "python3"
  },
  "language_info": {
   "codemirror_mode": {
    "name": "ipython",
    "version": 3
   },
   "file_extension": ".py",
   "mimetype": "text/x-python",
   "name": "python",
   "nbconvert_exporter": "python",
   "pygments_lexer": "ipython3",
   "version": "3.11.5"
  }
 },
 "nbformat": 4,
 "nbformat_minor": 2
}
